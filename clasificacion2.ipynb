{
 "cells": [
  {
   "cell_type": "code",
   "execution_count": null,
   "metadata": {},
   "outputs": [],
   "source": [
    "import pandas as pd\n",
    "df = pd.read_csv('datos.csv')\n",
    "df.shape"
   ]
  },
  {
   "cell_type": "code",
   "execution_count": null,
   "metadata": {},
   "outputs": [],
   "source": [
    "\"\"\"\n",
    "División de datos de entrenamiento y prueba: Se dividen los datos en conjuntos de entrenamiento (train) y prueba (test). \n",
    "El primer conjunto train contiene las primeras 600 filas del DataFrame original, \n",
    "mientras que el segundo conjunto test contiene el resto de las filas.\n",
    "\"\"\"\n",
    "\n",
    "train = df.iloc[0:600, :]\n",
    "train"
   ]
  },
  {
   "cell_type": "code",
   "execution_count": null,
   "metadata": {},
   "outputs": [],
   "source": [
    "test = df.iloc[600:,:]\n",
    "test"
   ]
  },
  {
   "cell_type": "code",
   "execution_count": null,
   "metadata": {},
   "outputs": [],
   "source": [
    "x_train = train.iloc[:,1:3]\n",
    "x_train"
   ]
  },
  {
   "cell_type": "code",
   "execution_count": null,
   "metadata": {},
   "outputs": [],
   "source": [
    "y_train = train.iloc[:, -1]\n",
    "y_train"
   ]
  },
  {
   "cell_type": "code",
   "execution_count": null,
   "metadata": {},
   "outputs": [],
   "source": [
    "x_test = test.iloc[:, 1:3]\n",
    "x_test"
   ]
  },
  {
   "cell_type": "code",
   "execution_count": null,
   "metadata": {},
   "outputs": [],
   "source": [
    "y_test = test.iloc[:, -1]\n",
    "y_test"
   ]
  },
  {
   "cell_type": "code",
   "execution_count": null,
   "metadata": {},
   "outputs": [],
   "source": [
    "\"\"\"\n",
    "Creación y entrenamiento del modelo SVM: Se crea una instancia de un modelo SVM (Máquinas de Soporte Vectorial) \n",
    "con un kernel radial (RBF), un valor de gamma de 0.1 y un valor de C de 1. \n",
    "Luego, se entrena el modelo utilizando el conjunto de entrenamiento (x_train e y_train) mediante el método fit().\n",
    "\"\"\"\n",
    "\n",
    "from sklearn.svm import SVC\n",
    "modelo = SVC(kernel='rbf', gamma = 0.1, C=1)\n",
    "modelo.fit(x_train, y_train)"
   ]
  },
  {
   "cell_type": "code",
   "execution_count": null,
   "metadata": {},
   "outputs": [],
   "source": [
    "\"\"\"\n",
    "Se utiliza el modelo entrenado para realizar predicciones sobre el conjunto de prueba (x_test)\n",
    " y se almacenan en la variable predicted.\n",
    "\"\"\"\n",
    "predicted = modelo.predict(x_test)\n",
    "predicted \n"
   ]
  },
  {
   "cell_type": "code",
   "execution_count": null,
   "metadata": {},
   "outputs": [],
   "source": [
    "\"\"\"\n",
    "Las predicciones se agregan al DataFrame de prueba test en una nueva columna llamada 'predicted'. \n",
    "Esto permite comparar las predicciones con los valores reales en el conjunto de prueba\n",
    "\"\"\"\n",
    "test = pd.DataFrame(test)\n",
    "test['predicted'] = predicted\n",
    "test"
   ]
  },
  {
   "cell_type": "code",
   "execution_count": null,
   "metadata": {},
   "outputs": [],
   "source": [
    "\"\"\"\n",
    "Evaluación del rendimiento: Finalmente, se calcula la precisión (accuracy) del modelo utilizando las etiquetas reales (y_test) y\n",
    " las predicciones (predicted) mediante la función accuracy_score de scikit-learn.\n",
    "\"\"\"\n",
    "from sklearn.metrics import accuracy_score\n",
    "accuracy_score(y_test, predicted)"
   ]
  },
  {
   "cell_type": "code",
   "execution_count": null,
   "metadata": {},
   "outputs": [],
   "source": []
  },
  {
   "cell_type": "code",
   "execution_count": null,
   "metadata": {},
   "outputs": [],
   "source": []
  }
 ],
 "metadata": {
  "kernelspec": {
   "display_name": "Python 3",
   "language": "python",
   "name": "python3"
  },
  "language_info": {
   "codemirror_mode": {
    "name": "ipython",
    "version": 3
   },
   "file_extension": ".py",
   "mimetype": "text/x-python",
   "name": "python",
   "nbconvert_exporter": "python",
   "pygments_lexer": "ipython3",
   "version": "3.10.6"
  },
  "orig_nbformat": 4
 },
 "nbformat": 4,
 "nbformat_minor": 2
}
