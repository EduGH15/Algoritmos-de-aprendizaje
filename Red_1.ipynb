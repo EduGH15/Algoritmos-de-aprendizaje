{
  "nbformat": 4,
  "nbformat_minor": 0,
  "metadata": {
    "colab": {
      "provenance": [],
      "authorship_tag": "ABX9TyOQRIo8i2MHndIswKWULfaI",
      "include_colab_link": true
    },
    "kernelspec": {
      "name": "python3",
      "display_name": "Python 3"
    },
    "language_info": {
      "name": "python"
    }
  },
  "cells": [
    {
      "cell_type": "markdown",
      "metadata": {
        "id": "view-in-github",
        "colab_type": "text"
      },
      "source": [
        "<a href=\"https://colab.research.google.com/github/EduGH15/Algoritmos-de-aprendizaje/blob/main/Red_1.ipynb\" target=\"_parent\"><img src=\"https://colab.research.google.com/assets/colab-badge.svg\" alt=\"Open In Colab\"/></a>"
      ]
    },
    {
      "cell_type": "code",
      "execution_count": 1,
      "metadata": {
        "id": "v1ZISlAw38uQ"
      },
      "outputs": [],
      "source": [
        "import tensorflow as tf\n",
        "import numpy as np"
      ]
    },
    {
      "cell_type": "code",
      "source": [
        "celsius = np.array([-40, -10, 0, 8, 15, 22, 38], dtype=float)\n",
        "fahrenheit = np.array([-40, 14, 32, 46, 59, 72, 100], dtype=float)"
      ],
      "metadata": {
        "id": "WlkJjPh54Ey5"
      },
      "execution_count": 4,
      "outputs": []
    },
    {
      "cell_type": "code",
      "source": [
        "#Especifico las capas de entrada y de salida:\n",
        "capa = tf.keras.layers.Dense(units = 1, input_shape =[1])\n",
        "modelo = tf.keras.Sequential([capa])"
      ],
      "metadata": {
        "id": "JtrbxCvE4ijA"
      },
      "execution_count": 6,
      "outputs": []
    },
    {
      "cell_type": "code",
      "source": [
        "#Proceso matematico\n",
        "modelo.compile(\n",
        "    optimizer = tf.keras.optimizers.Adam(0.1),\n",
        "    loss='mean_squared_error'\n",
        ")"
      ],
      "metadata": {
        "id": "gjybMDTc5SgN"
      },
      "execution_count": 9,
      "outputs": []
    },
    {
      "cell_type": "code",
      "source": [
        "print(\"Comenzando el entrenamiento...\")\n",
        "historial = modelo.fit(celsius, fahrenheit, epochs = 1000, verbose = False)\n",
        "print(\"Modelo entrenado!\")"
      ],
      "metadata": {
        "colab": {
          "base_uri": "https://localhost:8080/"
        },
        "id": "h9p_wr0o5ffd",
        "outputId": "f04d6cef-2ba9-4961-89f5-113cfc2a957b"
      },
      "execution_count": 11,
      "outputs": [
        {
          "output_type": "stream",
          "name": "stdout",
          "text": [
            "Comenzando el entrenamiento...\n",
            "Modelo entrenado!\n"
          ]
        }
      ]
    },
    {
      "cell_type": "code",
      "source": [
        "#Muestra los resultados por cada vuelta\n",
        "import matplotlib.pyplot as plt\n",
        "plt.xlabel(\"#Epoca\")\n",
        "plt.ylabel(\"Magnitud de pérdida\")\n",
        "plt.plot(historial.history['loss'])"
      ],
      "metadata": {
        "colab": {
          "base_uri": "https://localhost:8080/",
          "height": 466
        },
        "id": "2NbUhheK6PWl",
        "outputId": "931d097a-49da-4272-f751-ac37e4e50acd"
      },
      "execution_count": 13,
      "outputs": [
        {
          "output_type": "execute_result",
          "data": {
            "text/plain": [
              "[<matplotlib.lines.Line2D at 0x7f165b31d270>]"
            ]
          },
          "metadata": {},
          "execution_count": 13
        },
        {
          "output_type": "display_data",
          "data": {
            "text/plain": [
              "<Figure size 640x480 with 1 Axes>"
            ],
            "image/png": "[encoded data removed]"
          },
          "metadata": {}
        }
      ]
    },
    {
      "cell_type": "code",
      "source": [
        "#Observamos que a partir de las 500 vueltas los errores disminuyeron bastante\n",
        "print(\"Hagamos una predicción!\")\n",
        "resultado = modelo.predict([100.0])\n",
        "print(f\"El resultado es ${resultado} fahrenheit!\")"
      ],
      "metadata": {
        "colab": {
          "base_uri": "https://localhost:8080/"
        },
        "id": "Fr41ayLh6fnz",
        "outputId": "e390d798-f154-41b7-8d85-0c62afe1784b"
      },
      "execution_count": 14,
      "outputs": [
        {
          "output_type": "stream",
          "name": "stdout",
          "text": [
            "Hagamos una predicción!\n",
            "1/1 [==============================] - 0s 97ms/step\n",
            "El resultado es $[[211.73958]] fahrenheit!\n"
          ]
        }
      ]
    },
    {
      "cell_type": "code",
      "source": [
        "print(\"Variables internas del modelo\")\n",
        "print(capa.get_weights())"
      ],
      "metadata": {
        "colab": {
          "base_uri": "https://localhost:8080/"
        },
        "id": "Tr2h62Ze7ZtV",
        "outputId": "b8e76c9e-e2a9-4b2d-908d-55cb757868de"
      },
      "execution_count": 15,
      "outputs": [
        {
          "output_type": "stream",
          "name": "stdout",
          "text": [
            "Variables internas del modelo\n",
            "[array([[1.7984767]], dtype=float32), array([31.891909], dtype=float32)]\n"
          ]
        }
      ]
    },
    {
      "cell_type": "code",
      "source": [
        "#Observamos que en el anterior, el peso vale 1.79 y el sesgo 31.89\n",
        "#Coincide un poco con la formula de Farenheit = Celcius * 1.8 + 32, siendo 1-79 casi 1.8 y 31.89 casi 32"
      ],
      "metadata": {
        "id": "dUeYqNVN7v7a"
      },
      "execution_count": 16,
      "outputs": []
    },
    {
      "cell_type": "code",
      "source": [],
      "metadata": {
        "id": "mIGglfeB766a"
      },
      "execution_count": null,
      "outputs": []
    }
  ]
}