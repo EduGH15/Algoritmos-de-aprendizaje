{
 "cells": [
  {
   "cell_type": "code",
   "execution_count": null,
   "metadata": {},
   "outputs": [],
   "source": [
    "from sklearn.datasets import load_iris\n",
    "import numpy as np\n",
    "import pandas as pd"
   ]
  },
  {
   "cell_type": "code",
   "execution_count": null,
   "metadata": {},
   "outputs": [],
   "source": [
    "\"\"\"\n",
    "Carga el dataset de iris y no hay valores nulos\n",
    "\"\"\"\n",
    "iris = load_iris()\n",
    "X = pd.DataFrame(data= iris.data, columns= iris.feature_names)\n",
    "X.head(5)"
   ]
  },
  {
   "cell_type": "code",
   "execution_count": null,
   "metadata": {},
   "outputs": [],
   "source": [
    "\"\"\"\n",
    "Se crean las etiquetas de clase a partir de iris.target_names y iris.target y se almacenan en un DataFrame y.\n",
    "\"\"\"\n",
    "class_name = iris.target_names[iris.target]\n",
    "y = pd.DataFrame(data = class_name, columns = ['class'])\n",
    "y.head(5)"
   ]
  },
  {
   "cell_type": "code",
   "execution_count": null,
   "metadata": {},
   "outputs": [],
   "source": [
    "\"\"\"\n",
    "Se importa la clase KNeighborsClassifier de scikit-learn y se crea un modelo KNN con un valor de n_neighbors\n",
    "igual a 3. Esto significa que el modelo considerará los 3 vecinos más cercanos para tomar decisiones de \n",
    "clasificación.\n",
    "\"\"\"\n",
    "from sklearn.neighbors import KNeighborsClassifier\n",
    "modelo = KNeighborsClassifier(n_neighbors= 3) #Es recomendable usar nros impares"
   ]
  },
  {
   "cell_type": "code",
   "execution_count": null,
   "metadata": {},
   "outputs": [],
   "source": [
    "\"\"\"\n",
    "Aplicar K-Fold Cross validation al dataset de Iris con k = 10\n",
    "Se importa la función cross_val_score de scikit-learn y se realiza la validación cruzada con k-fold (cv=5 significa 5-fold). \n",
    "El modelo KNN se evalúa en el conjunto de datos Iris utilizando la métrica de precisión ('accuracy') y \n",
    "los resultados se almacenan en la lista scores.\n",
    " \"\"\"\n",
    "from sklearn.model_selection import cross_val_score\n",
    "scores = cross_val_score(modelo, X, y.values.ravel(), cv = 5, scoring='accuracy')\n",
    "print(\"Accuracy en cada iteracion\", scores)"
   ]
  },
  {
   "cell_type": "code",
   "execution_count": null,
   "metadata": {},
   "outputs": [],
   "source": [
    "accuracy_promedio = np.mean(scores)\n",
    "print(\"Accuracy promedio:\", accuracy_promedio)"
   ]
  }
 ],
 "metadata": {
  "kernelspec": {
   "display_name": "Python 3",
   "language": "python",
   "name": "python3"
  },
  "language_info": {
   "codemirror_mode": {
    "name": "ipython",
    "version": 3
   },
   "file_extension": ".py",
   "mimetype": "text/x-python",
   "name": "python",
   "nbconvert_exporter": "python",
   "pygments_lexer": "ipython3",
   "version": "3.10.6"
  },
  "orig_nbformat": 4
 },
 "nbformat": 4,
 "nbformat_minor": 2
}
